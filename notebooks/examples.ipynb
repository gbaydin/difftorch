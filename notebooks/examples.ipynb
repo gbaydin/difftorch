{
 "cells": [
  {
   "cell_type": "code",
   "execution_count": 1,
   "metadata": {
    "colab": {
     "base_uri": "https://localhost:8080/",
     "height": 238
    },
    "colab_type": "code",
    "id": "bISpFSdnkCAU",
    "outputId": "7addc73c-7a1a-4e07-8612-156f2c5b7eb9"
   },
   "outputs": [
    {
     "name": "stdout",
     "output_type": "stream",
     "text": [
      "tensor([-0.8188, -0.0538]) tensor([-240.8413, -144.8447])\n",
      "tensor([ 0.1584, -0.6201]) tensor([-0.4763,  0.5831]) tensor(-93.9090)\n",
      "tensor([ 1.3047, -1.4277, -1.4153]) tensor([[-0.1409, -1.2758,  0.0288],\n",
      "        [ 0.9778, -0.1838, -0.2000],\n",
      "        [ 0.1549,  0.0000,  1.2890]])\n",
      "tensor([ 1.6378, -0.6959,  0.0437]) tensor([ 0.5056, -0.7171,  0.4605]) tensor([ 0.5623, -0.5366,  0.4722])\n",
      "tensor([-1.4456,  0.6751,  0.4212]) tensor([-0.6579, -1.7092, -0.1816]) tensor([-0.8124,  0.5455,  1.9796])\n",
      "tensor([-1.0438, -1.1759]) tensor([-0.0039, -0.5578]) tensor([-239.8811, -113.1937])\n",
      "tensor([ 1.1183, -1.1105]) tensor([[1946.8594, -447.3128],\n",
      "        [-447.3128,  200.0000]])\n",
      "tensor([1.5431, 2.2523]) tensor(2158.6287)\n",
      "tensor([-0.0451, -1.2066, -0.3227]) tensor([-0.0399, -0.9636,  0.2829])\n",
      "tensor([ 0.4569, -0.7173,  0.7276]) tensor(0.4263)\n"
     ]
    }
   ],
   "source": [
    "import torch\n",
    "import difftorch\n",
    "\n",
    "def f_rosenbrock(x):\n",
    "  x, y = x[0], x[1]\n",
    "  return (1. - x)**2 + 100. * (y - x**2)**2\n",
    "\n",
    "def f_spherical_cartesian(x):\n",
    "    r, theta, phi = x[0], x[1], x[2]\n",
    "    x, y, z = r*phi.sin()*theta.cos(), r*phi.sin()*theta.sin(), r*phi.cos()\n",
    "    return torch.stack([x, y, z])\n",
    "    \n",
    "# grad\n",
    "# Gradient of vector-to-scalar function f, evaluated at x\n",
    "x = torch.randn(2)\n",
    "g = difftorch.grad(f_rosenbrock, x)\n",
    "print(x, g)\n",
    "\n",
    "# gradv\n",
    "# Gradient-vector product (directional derivative) of vector-to-scalar function f, evaluated at x, with vector v\n",
    "x, v = torch.randn(2), torch.randn(2)\n",
    "gv = difftorch.gradv(f_rosenbrock, x, v)\n",
    "print(x, v, gv)\n",
    "\n",
    "# jacobian\n",
    "# Jacobian of vector-to-vector function f, evaluated at x\n",
    "x = torch.randn(3)\n",
    "j = difftorch.jacobian(f_spherical_cartesian, x)\n",
    "print(x, j)\n",
    "\n",
    "# jacobianv\n",
    "# Jacobian-vector product of vector-to-vector function f, evaluated at x, with vector v\n",
    "x, v = torch.randn(3), torch.randn(3)\n",
    "jv = difftorch.jacobianv(f_spherical_cartesian, x, v)\n",
    "print(x, v, jv)\n",
    "\n",
    "# jacobianTv\n",
    "# Transposed-Jacobian-vector (vector-Jacobian) product of vector-to-vector function f, evaluated at x, with vector v\n",
    "x, v = torch.randn(3), torch.randn(3)\n",
    "jv = difftorch.jacobianTv(f_spherical_cartesian, x, v)\n",
    "print(x, v, jv)\n",
    "\n",
    "# hessianv\n",
    "# Hessian-vector product of vector-to-scalar function f, evaluated at x, with vector v\n",
    "x, v = torch.randn(2), torch.randn(2)\n",
    "hv = difftorch.hessianv(f_rosenbrock, x, v)\n",
    "print(x, v, hv)\n",
    "\n",
    "# hessian\n",
    "# Hessian of vector-to-scalar function f, evaluated at x\n",
    "x = torch.randn(2)\n",
    "h = difftorch.hessian(f_rosenbrock, x)\n",
    "print(x, h)\n",
    "\n",
    "# laplacian\n",
    "# Laplacian of vector-to-scalar function f, evaluated at x\n",
    "x = torch.randn(2)\n",
    "l = difftorch.laplacian(f_rosenbrock, x)\n",
    "print(x, l)\n",
    "\n",
    "# curl\n",
    "# Curl of vector-to-vector function f, evaluated at x\n",
    "x = torch.randn(3)\n",
    "c = difftorch.curl(f_spherical_cartesian, x)\n",
    "print(x, c)\n",
    "\n",
    "# div\n",
    "# Divergence of vector-to-vector function f, evaluated at x\n",
    "x = torch.randn(3)\n",
    "d = difftorch.div(f_spherical_cartesian, x)\n",
    "print(x, d)"
   ]
  },
  {
   "cell_type": "code",
   "execution_count": 0,
   "metadata": {
    "colab": {},
    "colab_type": "code",
    "id": "NAkz_aX7kKsX"
   },
   "outputs": [],
   "source": []
  }
 ],
 "metadata": {
  "colab": {
   "collapsed_sections": [],
   "name": "examples.ipynb",
   "provenance": []
  },
  "kernelspec": {
   "display_name": "Python 3",
   "language": "python",
   "name": "python3"
  },
  "language_info": {
   "codemirror_mode": {
    "name": "ipython",
    "version": 3
   },
   "file_extension": ".py",
   "mimetype": "text/x-python",
   "name": "python",
   "nbconvert_exporter": "python",
   "pygments_lexer": "ipython3",
   "version": "3.7.6"
  }
 },
 "nbformat": 4,
 "nbformat_minor": 1
}
